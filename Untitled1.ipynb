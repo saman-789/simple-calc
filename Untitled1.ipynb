{
  "nbformat": 4,
  "nbformat_minor": 0,
  "metadata": {
    "colab": {
      "provenance": [],
      "authorship_tag": "ABX9TyMEngeJ1BXKWbA+vcS2oNKN",
      "include_colab_link": true
    },
    "kernelspec": {
      "name": "python3",
      "display_name": "Python 3"
    },
    "language_info": {
      "name": "python"
    }
  },
  "cells": [
    {
      "cell_type": "markdown",
      "metadata": {
        "id": "view-in-github",
        "colab_type": "text"
      },
      "source": [
        "<a href=\"https://colab.research.google.com/github/saman-789/simple-calc/blob/main/Untitled1.ipynb\" target=\"_parent\"><img src=\"https://colab.research.google.com/assets/colab-badge.svg\" alt=\"Open In Colab\"/></a>"
      ]
    },
    {
      "cell_type": "code",
      "execution_count": null,
      "metadata": {
        "id": "TbQ2wx6PcDew"
      },
      "outputs": [],
      "source": [
        "import streamlit as st\n",
        "\n",
        "# Title of the app\n",
        "st.title(\"Simple Calculator\")\n",
        "\n",
        "# Input fields for the two numbers\n",
        "number1 = st.number_input(\"Enter the first number\", value=0.0, format=\"%f\")\n",
        "number2 = st.number_input(\"Enter the second number\", value=0.0, format=\"%f\")\n",
        "\n",
        "# Dropdown menu for selecting the operation\n",
        "operation = st.selectbox(\"Select an operation\", (\"Addition\", \"Subtraction\", \"Multiplication\", \"Division\"))\n",
        "\n",
        "# Perform the calculation based on the selected operation\n",
        "if st.button(\"Calculate\"):\n",
        "    if operation == \"Addition\":\n",
        "        result = number1 + number2\n",
        "        st.write(f\"The result of addition is: {result}\")\n",
        "    elif operation == \"Subtraction\":\n",
        "        result = number1 - number2\n",
        "        st.write(f\"The result of subtraction is: {result}\")\n",
        "    elif operation == \"Multiplication\":\n",
        "        result = number1 * number2\n",
        "        st.write(f\"The result of multiplication is: {result}\")\n",
        "    elif operation == \"Division\":\n",
        "        if number2 != 0:\n",
        "            result = number1 / number2\n",
        "            st.write(f\"The result of division is: {result}\")\n",
        "        else:\n",
        "            st.write(\"Division by zero is not allowed.\")\n"
      ]
    }
  ]
}